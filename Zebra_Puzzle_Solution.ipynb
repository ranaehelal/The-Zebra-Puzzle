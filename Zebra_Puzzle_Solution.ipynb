{
  "cells": [
    {
      "cell_type": "markdown",
      "metadata": {
        "id": "view-in-github",
        "colab_type": "text"
      },
      "source": [
        "<a href=\"https://colab.research.google.com/github/ranaehelal/The-Zebra-Puzzle/blob/main/Zebra_Puzzle_Solution.ipynb\" target=\"_parent\"><img src=\"https://colab.research.google.com/assets/colab-badge.svg\" alt=\"Open In Colab\"/></a>"
      ]
    },
    {
      "cell_type": "code",
      "source": [
        "!pip install -r requirements.txt\n"
      ],
      "metadata": {
        "colab": {
          "base_uri": "https://localhost:8080/"
        },
        "collapsed": true,
        "id": "Hw9yHuBrw05j",
        "outputId": "a1d92f57-fd9d-45b5-9718-8d5a86a9710a"
      },
      "execution_count": 43,
      "outputs": [
        {
          "output_type": "stream",
          "name": "stdout",
          "text": [
            "Requirement already satisfied: cvxopt in /usr/local/lib/python3.10/dist-packages (from -r requirements.txt (line 1)) (1.3.2)\n",
            "Requirement already satisfied: image in /usr/local/lib/python3.10/dist-packages (from -r requirements.txt (line 2)) (1.5.33)\n",
            "Requirement already satisfied: ipython in /usr/local/lib/python3.10/dist-packages (from -r requirements.txt (line 3)) (7.34.0)\n",
            "Requirement already satisfied: ipythonblocks in /usr/local/lib/python3.10/dist-packages (from -r requirements.txt (line 4)) (1.9.1)\n",
            "Requirement already satisfied: ipywidgets in /usr/local/lib/python3.10/dist-packages (from -r requirements.txt (line 5)) (7.7.1)\n",
            "Requirement already satisfied: jupyter in /usr/local/lib/python3.10/dist-packages (from -r requirements.txt (line 6)) (1.1.1)\n",
            "Requirement already satisfied: keras in /usr/local/lib/python3.10/dist-packages (from -r requirements.txt (line 7)) (3.5.0)\n",
            "Requirement already satisfied: matplotlib in /usr/local/lib/python3.10/dist-packages (from -r requirements.txt (line 8)) (3.8.0)\n",
            "Requirement already satisfied: networkx in /usr/local/lib/python3.10/dist-packages (from -r requirements.txt (line 9)) (3.4.2)\n",
            "Requirement already satisfied: numpy in /usr/local/lib/python3.10/dist-packages (from -r requirements.txt (line 10)) (1.26.4)\n",
            "Requirement already satisfied: opencv-python in /usr/local/lib/python3.10/dist-packages (from -r requirements.txt (line 11)) (4.10.0.84)\n",
            "Requirement already satisfied: pandas in /usr/local/lib/python3.10/dist-packages (from -r requirements.txt (line 12)) (2.2.2)\n",
            "Requirement already satisfied: pillow in /usr/local/lib/python3.10/dist-packages (from -r requirements.txt (line 13)) (11.0.0)\n",
            "Requirement already satisfied: pytest-cov in /usr/local/lib/python3.10/dist-packages (from -r requirements.txt (line 14)) (6.0.0)\n",
            "Requirement already satisfied: qpsolvers in /usr/local/lib/python3.10/dist-packages (from -r requirements.txt (line 15)) (4.4.0)\n",
            "Requirement already satisfied: scipy in /usr/local/lib/python3.10/dist-packages (from -r requirements.txt (line 16)) (1.13.1)\n",
            "Requirement already satisfied: sortedcontainers in /usr/local/lib/python3.10/dist-packages (from -r requirements.txt (line 17)) (2.4.0)\n",
            "Requirement already satisfied: tensorflow in /usr/local/lib/python3.10/dist-packages (from -r requirements.txt (line 18)) (2.17.1)\n",
            "Requirement already satisfied: django in /usr/local/lib/python3.10/dist-packages (from image->-r requirements.txt (line 2)) (5.1.4)\n",
            "Requirement already satisfied: six in /usr/local/lib/python3.10/dist-packages (from image->-r requirements.txt (line 2)) (1.17.0)\n",
            "Requirement already satisfied: setuptools>=18.5 in /usr/local/lib/python3.10/dist-packages (from ipython->-r requirements.txt (line 3)) (75.1.0)\n",
            "Requirement already satisfied: jedi>=0.16 in /usr/local/lib/python3.10/dist-packages (from ipython->-r requirements.txt (line 3)) (0.19.2)\n",
            "Requirement already satisfied: decorator in /usr/local/lib/python3.10/dist-packages (from ipython->-r requirements.txt (line 3)) (4.4.2)\n",
            "Requirement already satisfied: pickleshare in /usr/local/lib/python3.10/dist-packages (from ipython->-r requirements.txt (line 3)) (0.7.5)\n",
            "Requirement already satisfied: traitlets>=4.2 in /usr/local/lib/python3.10/dist-packages (from ipython->-r requirements.txt (line 3)) (5.7.1)\n",
            "Requirement already satisfied: prompt-toolkit!=3.0.0,!=3.0.1,<3.1.0,>=2.0.0 in /usr/local/lib/python3.10/dist-packages (from ipython->-r requirements.txt (line 3)) (3.0.48)\n",
            "Requirement already satisfied: pygments in /usr/local/lib/python3.10/dist-packages (from ipython->-r requirements.txt (line 3)) (2.18.0)\n",
            "Requirement already satisfied: backcall in /usr/local/lib/python3.10/dist-packages (from ipython->-r requirements.txt (line 3)) (0.2.0)\n",
            "Requirement already satisfied: matplotlib-inline in /usr/local/lib/python3.10/dist-packages (from ipython->-r requirements.txt (line 3)) (0.1.7)\n",
            "Requirement already satisfied: pexpect>4.3 in /usr/local/lib/python3.10/dist-packages (from ipython->-r requirements.txt (line 3)) (4.9.0)\n",
            "Requirement already satisfied: notebook>=4.0 in /usr/local/lib/python3.10/dist-packages (from ipythonblocks->-r requirements.txt (line 4)) (6.5.5)\n",
            "Requirement already satisfied: requests>=1.0 in /usr/local/lib/python3.10/dist-packages (from ipythonblocks->-r requirements.txt (line 4)) (2.32.3)\n",
            "Requirement already satisfied: ipykernel>=4.5.1 in /usr/local/lib/python3.10/dist-packages (from ipywidgets->-r requirements.txt (line 5)) (6.29.5)\n",
            "Requirement already satisfied: ipython-genutils~=0.2.0 in /usr/local/lib/python3.10/dist-packages (from ipywidgets->-r requirements.txt (line 5)) (0.2.0)\n",
            "Requirement already satisfied: widgetsnbextension~=3.6.0 in /usr/local/lib/python3.10/dist-packages (from ipywidgets->-r requirements.txt (line 5)) (3.6.10)\n",
            "Requirement already satisfied: jupyterlab-widgets>=1.0.0 in /usr/local/lib/python3.10/dist-packages (from ipywidgets->-r requirements.txt (line 5)) (3.0.13)\n",
            "Requirement already satisfied: jupyter-console in /usr/local/lib/python3.10/dist-packages (from jupyter->-r requirements.txt (line 6)) (6.1.0)\n",
            "Requirement already satisfied: nbconvert in /usr/local/lib/python3.10/dist-packages (from jupyter->-r requirements.txt (line 6)) (7.16.4)\n",
            "Requirement already satisfied: jupyterlab in /usr/local/lib/python3.10/dist-packages (from jupyter->-r requirements.txt (line 6)) (4.3.4)\n",
            "Requirement already satisfied: absl-py in /usr/local/lib/python3.10/dist-packages (from keras->-r requirements.txt (line 7)) (1.4.0)\n",
            "Requirement already satisfied: rich in /usr/local/lib/python3.10/dist-packages (from keras->-r requirements.txt (line 7)) (13.9.4)\n",
            "Requirement already satisfied: namex in /usr/local/lib/python3.10/dist-packages (from keras->-r requirements.txt (line 7)) (0.0.8)\n",
            "Requirement already satisfied: h5py in /usr/local/lib/python3.10/dist-packages (from keras->-r requirements.txt (line 7)) (3.12.1)\n",
            "Requirement already satisfied: optree in /usr/local/lib/python3.10/dist-packages (from keras->-r requirements.txt (line 7)) (0.13.1)\n",
            "Requirement already satisfied: ml-dtypes in /usr/local/lib/python3.10/dist-packages (from keras->-r requirements.txt (line 7)) (0.4.1)\n",
            "Requirement already satisfied: packaging in /usr/local/lib/python3.10/dist-packages (from keras->-r requirements.txt (line 7)) (24.2)\n",
            "Requirement already satisfied: contourpy>=1.0.1 in /usr/local/lib/python3.10/dist-packages (from matplotlib->-r requirements.txt (line 8)) (1.3.1)\n",
            "Requirement already satisfied: cycler>=0.10 in /usr/local/lib/python3.10/dist-packages (from matplotlib->-r requirements.txt (line 8)) (0.12.1)\n",
            "Requirement already satisfied: fonttools>=4.22.0 in /usr/local/lib/python3.10/dist-packages (from matplotlib->-r requirements.txt (line 8)) (4.55.3)\n",
            "Requirement already satisfied: kiwisolver>=1.0.1 in /usr/local/lib/python3.10/dist-packages (from matplotlib->-r requirements.txt (line 8)) (1.4.7)\n",
            "Requirement already satisfied: pyparsing>=2.3.1 in /usr/local/lib/python3.10/dist-packages (from matplotlib->-r requirements.txt (line 8)) (3.2.0)\n",
            "Requirement already satisfied: python-dateutil>=2.7 in /usr/local/lib/python3.10/dist-packages (from matplotlib->-r requirements.txt (line 8)) (2.8.2)\n",
            "Requirement already satisfied: pytz>=2020.1 in /usr/local/lib/python3.10/dist-packages (from pandas->-r requirements.txt (line 12)) (2024.2)\n",
            "Requirement already satisfied: tzdata>=2022.7 in /usr/local/lib/python3.10/dist-packages (from pandas->-r requirements.txt (line 12)) (2024.2)\n",
            "Requirement already satisfied: pytest>=4.6 in /usr/local/lib/python3.10/dist-packages (from pytest-cov->-r requirements.txt (line 14)) (8.3.4)\n",
            "Requirement already satisfied: coverage>=7.5 in /usr/local/lib/python3.10/dist-packages (from coverage[toml]>=7.5->pytest-cov->-r requirements.txt (line 14)) (7.6.9)\n",
            "Requirement already satisfied: astunparse>=1.6.0 in /usr/local/lib/python3.10/dist-packages (from tensorflow->-r requirements.txt (line 18)) (1.6.3)\n",
            "Requirement already satisfied: flatbuffers>=24.3.25 in /usr/local/lib/python3.10/dist-packages (from tensorflow->-r requirements.txt (line 18)) (24.3.25)\n",
            "Requirement already satisfied: gast!=0.5.0,!=0.5.1,!=0.5.2,>=0.2.1 in /usr/local/lib/python3.10/dist-packages (from tensorflow->-r requirements.txt (line 18)) (0.6.0)\n",
            "Requirement already satisfied: google-pasta>=0.1.1 in /usr/local/lib/python3.10/dist-packages (from tensorflow->-r requirements.txt (line 18)) (0.2.0)\n",
            "Requirement already satisfied: libclang>=13.0.0 in /usr/local/lib/python3.10/dist-packages (from tensorflow->-r requirements.txt (line 18)) (18.1.1)\n",
            "Requirement already satisfied: opt-einsum>=2.3.2 in /usr/local/lib/python3.10/dist-packages (from tensorflow->-r requirements.txt (line 18)) (3.4.0)\n",
            "Requirement already satisfied: protobuf!=4.21.0,!=4.21.1,!=4.21.2,!=4.21.3,!=4.21.4,!=4.21.5,<5.0.0dev,>=3.20.3 in /usr/local/lib/python3.10/dist-packages (from tensorflow->-r requirements.txt (line 18)) (4.25.5)\n",
            "Requirement already satisfied: termcolor>=1.1.0 in /usr/local/lib/python3.10/dist-packages (from tensorflow->-r requirements.txt (line 18)) (2.5.0)\n",
            "Requirement already satisfied: typing-extensions>=3.6.6 in /usr/local/lib/python3.10/dist-packages (from tensorflow->-r requirements.txt (line 18)) (4.12.2)\n",
            "Requirement already satisfied: wrapt>=1.11.0 in /usr/local/lib/python3.10/dist-packages (from tensorflow->-r requirements.txt (line 18)) (1.17.0)\n",
            "Requirement already satisfied: grpcio<2.0,>=1.24.3 in /usr/local/lib/python3.10/dist-packages (from tensorflow->-r requirements.txt (line 18)) (1.68.1)\n",
            "Requirement already satisfied: tensorboard<2.18,>=2.17 in /usr/local/lib/python3.10/dist-packages (from tensorflow->-r requirements.txt (line 18)) (2.17.1)\n",
            "Requirement already satisfied: tensorflow-io-gcs-filesystem>=0.23.1 in /usr/local/lib/python3.10/dist-packages (from tensorflow->-r requirements.txt (line 18)) (0.37.1)\n",
            "Requirement already satisfied: wheel<1.0,>=0.23.0 in /usr/local/lib/python3.10/dist-packages (from astunparse>=1.6.0->tensorflow->-r requirements.txt (line 18)) (0.45.1)\n",
            "Requirement already satisfied: tomli in /usr/local/lib/python3.10/dist-packages (from coverage[toml]>=7.5->pytest-cov->-r requirements.txt (line 14)) (2.2.1)\n",
            "Requirement already satisfied: comm>=0.1.1 in /usr/local/lib/python3.10/dist-packages (from ipykernel>=4.5.1->ipywidgets->-r requirements.txt (line 5)) (0.2.2)\n",
            "Requirement already satisfied: debugpy>=1.6.5 in /usr/local/lib/python3.10/dist-packages (from ipykernel>=4.5.1->ipywidgets->-r requirements.txt (line 5)) (1.8.0)\n",
            "Requirement already satisfied: jupyter-client>=6.1.12 in /usr/local/lib/python3.10/dist-packages (from ipykernel>=4.5.1->ipywidgets->-r requirements.txt (line 5)) (7.4.9)\n",
            "Requirement already satisfied: jupyter-core!=5.0.*,>=4.12 in /usr/local/lib/python3.10/dist-packages (from ipykernel>=4.5.1->ipywidgets->-r requirements.txt (line 5)) (5.7.2)\n",
            "Requirement already satisfied: nest-asyncio in /usr/local/lib/python3.10/dist-packages (from ipykernel>=4.5.1->ipywidgets->-r requirements.txt (line 5)) (1.6.0)\n",
            "Requirement already satisfied: psutil in /usr/local/lib/python3.10/dist-packages (from ipykernel>=4.5.1->ipywidgets->-r requirements.txt (line 5)) (5.9.5)\n",
            "Requirement already satisfied: pyzmq>=24 in /usr/local/lib/python3.10/dist-packages (from ipykernel>=4.5.1->ipywidgets->-r requirements.txt (line 5)) (24.0.1)\n",
            "Requirement already satisfied: tornado>=6.1 in /usr/local/lib/python3.10/dist-packages (from ipykernel>=4.5.1->ipywidgets->-r requirements.txt (line 5)) (6.3.3)\n",
            "Requirement already satisfied: parso<0.9.0,>=0.8.4 in /usr/local/lib/python3.10/dist-packages (from jedi>=0.16->ipython->-r requirements.txt (line 3)) (0.8.4)\n",
            "Requirement already satisfied: jinja2 in /usr/local/lib/python3.10/dist-packages (from notebook>=4.0->ipythonblocks->-r requirements.txt (line 4)) (3.1.4)\n",
            "Requirement already satisfied: argon2-cffi in /usr/local/lib/python3.10/dist-packages (from notebook>=4.0->ipythonblocks->-r requirements.txt (line 4)) (23.1.0)\n",
            "Requirement already satisfied: nbformat in /usr/local/lib/python3.10/dist-packages (from notebook>=4.0->ipythonblocks->-r requirements.txt (line 4)) (5.10.4)\n",
            "Requirement already satisfied: Send2Trash>=1.8.0 in /usr/local/lib/python3.10/dist-packages (from notebook>=4.0->ipythonblocks->-r requirements.txt (line 4)) (1.8.3)\n",
            "Requirement already satisfied: terminado>=0.8.3 in /usr/local/lib/python3.10/dist-packages (from notebook>=4.0->ipythonblocks->-r requirements.txt (line 4)) (0.18.1)\n",
            "Requirement already satisfied: prometheus-client in /usr/local/lib/python3.10/dist-packages (from notebook>=4.0->ipythonblocks->-r requirements.txt (line 4)) (0.21.1)\n",
            "Requirement already satisfied: nbclassic>=0.4.7 in /usr/local/lib/python3.10/dist-packages (from notebook>=4.0->ipythonblocks->-r requirements.txt (line 4)) (1.1.0)\n",
            "Requirement already satisfied: beautifulsoup4 in /usr/local/lib/python3.10/dist-packages (from nbconvert->jupyter->-r requirements.txt (line 6)) (4.12.3)\n",
            "Requirement already satisfied: bleach!=5.0.0 in /usr/local/lib/python3.10/dist-packages (from nbconvert->jupyter->-r requirements.txt (line 6)) (6.2.0)\n",
            "Requirement already satisfied: defusedxml in /usr/local/lib/python3.10/dist-packages (from nbconvert->jupyter->-r requirements.txt (line 6)) (0.7.1)\n",
            "Requirement already satisfied: jupyterlab-pygments in /usr/local/lib/python3.10/dist-packages (from nbconvert->jupyter->-r requirements.txt (line 6)) (0.3.0)\n",
            "Requirement already satisfied: markupsafe>=2.0 in /usr/local/lib/python3.10/dist-packages (from nbconvert->jupyter->-r requirements.txt (line 6)) (3.0.2)\n",
            "Requirement already satisfied: mistune<4,>=2.0.3 in /usr/local/lib/python3.10/dist-packages (from nbconvert->jupyter->-r requirements.txt (line 6)) (3.0.2)\n",
            "Requirement already satisfied: nbclient>=0.5.0 in /usr/local/lib/python3.10/dist-packages (from nbconvert->jupyter->-r requirements.txt (line 6)) (0.10.1)\n",
            "Requirement already satisfied: pandocfilters>=1.4.1 in /usr/local/lib/python3.10/dist-packages (from nbconvert->jupyter->-r requirements.txt (line 6)) (1.5.1)\n",
            "Requirement already satisfied: tinycss2 in /usr/local/lib/python3.10/dist-packages (from nbconvert->jupyter->-r requirements.txt (line 6)) (1.4.0)\n",
            "Requirement already satisfied: ptyprocess>=0.5 in /usr/local/lib/python3.10/dist-packages (from pexpect>4.3->ipython->-r requirements.txt (line 3)) (0.7.0)\n",
            "Requirement already satisfied: wcwidth in /usr/local/lib/python3.10/dist-packages (from prompt-toolkit!=3.0.0,!=3.0.1,<3.1.0,>=2.0.0->ipython->-r requirements.txt (line 3)) (0.2.13)\n",
            "Requirement already satisfied: exceptiongroup>=1.0.0rc8 in /usr/local/lib/python3.10/dist-packages (from pytest>=4.6->pytest-cov->-r requirements.txt (line 14)) (1.2.2)\n",
            "Requirement already satisfied: iniconfig in /usr/local/lib/python3.10/dist-packages (from pytest>=4.6->pytest-cov->-r requirements.txt (line 14)) (2.0.0)\n",
            "Requirement already satisfied: pluggy<2,>=1.5 in /usr/local/lib/python3.10/dist-packages (from pytest>=4.6->pytest-cov->-r requirements.txt (line 14)) (1.5.0)\n",
            "Requirement already satisfied: charset-normalizer<4,>=2 in /usr/local/lib/python3.10/dist-packages (from requests>=1.0->ipythonblocks->-r requirements.txt (line 4)) (3.4.0)\n",
            "Requirement already satisfied: idna<4,>=2.5 in /usr/local/lib/python3.10/dist-packages (from requests>=1.0->ipythonblocks->-r requirements.txt (line 4)) (3.10)\n",
            "Requirement already satisfied: urllib3<3,>=1.21.1 in /usr/local/lib/python3.10/dist-packages (from requests>=1.0->ipythonblocks->-r requirements.txt (line 4)) (2.2.3)\n",
            "Requirement already satisfied: certifi>=2017.4.17 in /usr/local/lib/python3.10/dist-packages (from requests>=1.0->ipythonblocks->-r requirements.txt (line 4)) (2024.12.14)\n",
            "Requirement already satisfied: markdown>=2.6.8 in /usr/local/lib/python3.10/dist-packages (from tensorboard<2.18,>=2.17->tensorflow->-r requirements.txt (line 18)) (3.7)\n",
            "Requirement already satisfied: tensorboard-data-server<0.8.0,>=0.7.0 in /usr/local/lib/python3.10/dist-packages (from tensorboard<2.18,>=2.17->tensorflow->-r requirements.txt (line 18)) (0.7.2)\n",
            "Requirement already satisfied: werkzeug>=1.0.1 in /usr/local/lib/python3.10/dist-packages (from tensorboard<2.18,>=2.17->tensorflow->-r requirements.txt (line 18)) (3.1.3)\n",
            "Requirement already satisfied: asgiref<4,>=3.8.1 in /usr/local/lib/python3.10/dist-packages (from django->image->-r requirements.txt (line 2)) (3.8.1)\n",
            "Requirement already satisfied: sqlparse>=0.3.1 in /usr/local/lib/python3.10/dist-packages (from django->image->-r requirements.txt (line 2)) (0.5.3)\n",
            "Requirement already satisfied: async-lru>=1.0.0 in /usr/local/lib/python3.10/dist-packages (from jupyterlab->jupyter->-r requirements.txt (line 6)) (2.0.4)\n",
            "Requirement already satisfied: httpx>=0.25.0 in /usr/local/lib/python3.10/dist-packages (from jupyterlab->jupyter->-r requirements.txt (line 6)) (0.28.1)\n",
            "Requirement already satisfied: jupyter-lsp>=2.0.0 in /usr/local/lib/python3.10/dist-packages (from jupyterlab->jupyter->-r requirements.txt (line 6)) (2.2.5)\n",
            "Requirement already satisfied: jupyter-server<3,>=2.4.0 in /usr/local/lib/python3.10/dist-packages (from jupyterlab->jupyter->-r requirements.txt (line 6)) (2.15.0)\n",
            "Requirement already satisfied: jupyterlab-server<3,>=2.27.1 in /usr/local/lib/python3.10/dist-packages (from jupyterlab->jupyter->-r requirements.txt (line 6)) (2.27.3)\n",
            "Requirement already satisfied: notebook-shim>=0.2 in /usr/local/lib/python3.10/dist-packages (from jupyterlab->jupyter->-r requirements.txt (line 6)) (0.2.4)\n",
            "Requirement already satisfied: markdown-it-py>=2.2.0 in /usr/local/lib/python3.10/dist-packages (from rich->keras->-r requirements.txt (line 7)) (3.0.0)\n",
            "Requirement already satisfied: webencodings in /usr/local/lib/python3.10/dist-packages (from bleach!=5.0.0->nbconvert->jupyter->-r requirements.txt (line 6)) (0.5.1)\n",
            "Requirement already satisfied: anyio in /usr/local/lib/python3.10/dist-packages (from httpx>=0.25.0->jupyterlab->jupyter->-r requirements.txt (line 6)) (3.7.1)\n",
            "Requirement already satisfied: httpcore==1.* in /usr/local/lib/python3.10/dist-packages (from httpx>=0.25.0->jupyterlab->jupyter->-r requirements.txt (line 6)) (1.0.7)\n",
            "Requirement already satisfied: h11<0.15,>=0.13 in /usr/local/lib/python3.10/dist-packages (from httpcore==1.*->httpx>=0.25.0->jupyterlab->jupyter->-r requirements.txt (line 6)) (0.14.0)\n",
            "Requirement already satisfied: entrypoints in /usr/local/lib/python3.10/dist-packages (from jupyter-client>=6.1.12->ipykernel>=4.5.1->ipywidgets->-r requirements.txt (line 5)) (0.4)\n",
            "Requirement already satisfied: platformdirs>=2.5 in /usr/local/lib/python3.10/dist-packages (from jupyter-core!=5.0.*,>=4.12->ipykernel>=4.5.1->ipywidgets->-r requirements.txt (line 5)) (4.3.6)\n",
            "Requirement already satisfied: jupyter-events>=0.11.0 in /usr/local/lib/python3.10/dist-packages (from jupyter-server<3,>=2.4.0->jupyterlab->jupyter->-r requirements.txt (line 6)) (0.11.0)\n",
            "Requirement already satisfied: jupyter-server-terminals>=0.4.4 in /usr/local/lib/python3.10/dist-packages (from jupyter-server<3,>=2.4.0->jupyterlab->jupyter->-r requirements.txt (line 6)) (0.5.3)\n",
            "Requirement already satisfied: overrides>=5.0 in /usr/local/lib/python3.10/dist-packages (from jupyter-server<3,>=2.4.0->jupyterlab->jupyter->-r requirements.txt (line 6)) (7.7.0)\n",
            "Requirement already satisfied: websocket-client>=1.7 in /usr/local/lib/python3.10/dist-packages (from jupyter-server<3,>=2.4.0->jupyterlab->jupyter->-r requirements.txt (line 6)) (1.8.0)\n",
            "Requirement already satisfied: argon2-cffi-bindings in /usr/local/lib/python3.10/dist-packages (from argon2-cffi->notebook>=4.0->ipythonblocks->-r requirements.txt (line 4)) (21.2.0)\n",
            "Requirement already satisfied: babel>=2.10 in /usr/local/lib/python3.10/dist-packages (from jupyterlab-server<3,>=2.27.1->jupyterlab->jupyter->-r requirements.txt (line 6)) (2.16.0)\n",
            "Requirement already satisfied: json5>=0.9.0 in /usr/local/lib/python3.10/dist-packages (from jupyterlab-server<3,>=2.27.1->jupyterlab->jupyter->-r requirements.txt (line 6)) (0.10.0)\n",
            "Requirement already satisfied: jsonschema>=4.18.0 in /usr/local/lib/python3.10/dist-packages (from jupyterlab-server<3,>=2.27.1->jupyterlab->jupyter->-r requirements.txt (line 6)) (4.23.0)\n",
            "Requirement already satisfied: mdurl~=0.1 in /usr/local/lib/python3.10/dist-packages (from markdown-it-py>=2.2.0->rich->keras->-r requirements.txt (line 7)) (0.1.2)\n",
            "Requirement already satisfied: fastjsonschema>=2.15 in /usr/local/lib/python3.10/dist-packages (from nbformat->notebook>=4.0->ipythonblocks->-r requirements.txt (line 4)) (2.21.1)\n",
            "Requirement already satisfied: soupsieve>1.2 in /usr/local/lib/python3.10/dist-packages (from beautifulsoup4->nbconvert->jupyter->-r requirements.txt (line 6)) (2.6)\n",
            "Requirement already satisfied: sniffio>=1.1 in /usr/local/lib/python3.10/dist-packages (from anyio->httpx>=0.25.0->jupyterlab->jupyter->-r requirements.txt (line 6)) (1.3.1)\n",
            "Requirement already satisfied: attrs>=22.2.0 in /usr/local/lib/python3.10/dist-packages (from jsonschema>=4.18.0->jupyterlab-server<3,>=2.27.1->jupyterlab->jupyter->-r requirements.txt (line 6)) (24.3.0)\n",
            "Requirement already satisfied: jsonschema-specifications>=2023.03.6 in /usr/local/lib/python3.10/dist-packages (from jsonschema>=4.18.0->jupyterlab-server<3,>=2.27.1->jupyterlab->jupyter->-r requirements.txt (line 6)) (2024.10.1)\n",
            "Requirement already satisfied: referencing>=0.28.4 in /usr/local/lib/python3.10/dist-packages (from jsonschema>=4.18.0->jupyterlab-server<3,>=2.27.1->jupyterlab->jupyter->-r requirements.txt (line 6)) (0.35.1)\n",
            "Requirement already satisfied: rpds-py>=0.7.1 in /usr/local/lib/python3.10/dist-packages (from jsonschema>=4.18.0->jupyterlab-server<3,>=2.27.1->jupyterlab->jupyter->-r requirements.txt (line 6)) (0.22.3)\n",
            "Requirement already satisfied: python-json-logger>=2.0.4 in /usr/local/lib/python3.10/dist-packages (from jupyter-events>=0.11.0->jupyter-server<3,>=2.4.0->jupyterlab->jupyter->-r requirements.txt (line 6)) (3.2.1)\n",
            "Requirement already satisfied: pyyaml>=5.3 in /usr/local/lib/python3.10/dist-packages (from jupyter-events>=0.11.0->jupyter-server<3,>=2.4.0->jupyterlab->jupyter->-r requirements.txt (line 6)) (6.0.2)\n",
            "Requirement already satisfied: rfc3339-validator in /usr/local/lib/python3.10/dist-packages (from jupyter-events>=0.11.0->jupyter-server<3,>=2.4.0->jupyterlab->jupyter->-r requirements.txt (line 6)) (0.1.4)\n",
            "Requirement already satisfied: rfc3986-validator>=0.1.1 in /usr/local/lib/python3.10/dist-packages (from jupyter-events>=0.11.0->jupyter-server<3,>=2.4.0->jupyterlab->jupyter->-r requirements.txt (line 6)) (0.1.1)\n",
            "Requirement already satisfied: cffi>=1.0.1 in /usr/local/lib/python3.10/dist-packages (from argon2-cffi-bindings->argon2-cffi->notebook>=4.0->ipythonblocks->-r requirements.txt (line 4)) (1.17.1)\n",
            "Requirement already satisfied: pycparser in /usr/local/lib/python3.10/dist-packages (from cffi>=1.0.1->argon2-cffi-bindings->argon2-cffi->notebook>=4.0->ipythonblocks->-r requirements.txt (line 4)) (2.22)\n",
            "Requirement already satisfied: fqdn in /usr/local/lib/python3.10/dist-packages (from jsonschema[format-nongpl]>=4.18.0->jupyter-events>=0.11.0->jupyter-server<3,>=2.4.0->jupyterlab->jupyter->-r requirements.txt (line 6)) (1.5.1)\n",
            "Requirement already satisfied: isoduration in /usr/local/lib/python3.10/dist-packages (from jsonschema[format-nongpl]>=4.18.0->jupyter-events>=0.11.0->jupyter-server<3,>=2.4.0->jupyterlab->jupyter->-r requirements.txt (line 6)) (20.11.0)\n",
            "Requirement already satisfied: jsonpointer>1.13 in /usr/local/lib/python3.10/dist-packages (from jsonschema[format-nongpl]>=4.18.0->jupyter-events>=0.11.0->jupyter-server<3,>=2.4.0->jupyterlab->jupyter->-r requirements.txt (line 6)) (3.0.0)\n",
            "Requirement already satisfied: uri-template in /usr/local/lib/python3.10/dist-packages (from jsonschema[format-nongpl]>=4.18.0->jupyter-events>=0.11.0->jupyter-server<3,>=2.4.0->jupyterlab->jupyter->-r requirements.txt (line 6)) (1.3.0)\n",
            "Requirement already satisfied: webcolors>=24.6.0 in /usr/local/lib/python3.10/dist-packages (from jsonschema[format-nongpl]>=4.18.0->jupyter-events>=0.11.0->jupyter-server<3,>=2.4.0->jupyterlab->jupyter->-r requirements.txt (line 6)) (24.11.1)\n",
            "Requirement already satisfied: arrow>=0.15.0 in /usr/local/lib/python3.10/dist-packages (from isoduration->jsonschema[format-nongpl]>=4.18.0->jupyter-events>=0.11.0->jupyter-server<3,>=2.4.0->jupyterlab->jupyter->-r requirements.txt (line 6)) (1.3.0)\n",
            "Requirement already satisfied: types-python-dateutil>=2.8.10 in /usr/local/lib/python3.10/dist-packages (from arrow>=0.15.0->isoduration->jsonschema[format-nongpl]>=4.18.0->jupyter-events>=0.11.0->jupyter-server<3,>=2.4.0->jupyterlab->jupyter->-r requirements.txt (line 6)) (2.9.0.20241206)\n"
          ]
        }
      ]
    },
    {
      "cell_type": "code",
      "execution_count": 44,
      "metadata": {
        "colab": {
          "base_uri": "https://localhost:8080/"
        },
        "id": "9eXD84GVc_VO",
        "outputId": "e303d89b-fcaf-4275-9673-63977d28e1e7",
        "collapsed": true
      },
      "outputs": [
        {
          "output_type": "stream",
          "name": "stdout",
          "text": [
            "Requirement already satisfied: ipythonblocks in /usr/local/lib/python3.10/dist-packages (1.9.1)\n",
            "Requirement already satisfied: ipython>=4.0 in /usr/local/lib/python3.10/dist-packages (from ipythonblocks) (7.34.0)\n",
            "Requirement already satisfied: notebook>=4.0 in /usr/local/lib/python3.10/dist-packages (from ipythonblocks) (6.5.5)\n",
            "Requirement already satisfied: requests>=1.0 in /usr/local/lib/python3.10/dist-packages (from ipythonblocks) (2.32.3)\n",
            "Requirement already satisfied: setuptools>=18.5 in /usr/local/lib/python3.10/dist-packages (from ipython>=4.0->ipythonblocks) (75.1.0)\n",
            "Requirement already satisfied: jedi>=0.16 in /usr/local/lib/python3.10/dist-packages (from ipython>=4.0->ipythonblocks) (0.19.2)\n",
            "Requirement already satisfied: decorator in /usr/local/lib/python3.10/dist-packages (from ipython>=4.0->ipythonblocks) (4.4.2)\n",
            "Requirement already satisfied: pickleshare in /usr/local/lib/python3.10/dist-packages (from ipython>=4.0->ipythonblocks) (0.7.5)\n",
            "Requirement already satisfied: traitlets>=4.2 in /usr/local/lib/python3.10/dist-packages (from ipython>=4.0->ipythonblocks) (5.7.1)\n",
            "Requirement already satisfied: prompt-toolkit!=3.0.0,!=3.0.1,<3.1.0,>=2.0.0 in /usr/local/lib/python3.10/dist-packages (from ipython>=4.0->ipythonblocks) (3.0.48)\n",
            "Requirement already satisfied: pygments in /usr/local/lib/python3.10/dist-packages (from ipython>=4.0->ipythonblocks) (2.18.0)\n",
            "Requirement already satisfied: backcall in /usr/local/lib/python3.10/dist-packages (from ipython>=4.0->ipythonblocks) (0.2.0)\n",
            "Requirement already satisfied: matplotlib-inline in /usr/local/lib/python3.10/dist-packages (from ipython>=4.0->ipythonblocks) (0.1.7)\n",
            "Requirement already satisfied: pexpect>4.3 in /usr/local/lib/python3.10/dist-packages (from ipython>=4.0->ipythonblocks) (4.9.0)\n",
            "Requirement already satisfied: jinja2 in /usr/local/lib/python3.10/dist-packages (from notebook>=4.0->ipythonblocks) (3.1.4)\n",
            "Requirement already satisfied: tornado>=6.1 in /usr/local/lib/python3.10/dist-packages (from notebook>=4.0->ipythonblocks) (6.3.3)\n",
            "Requirement already satisfied: pyzmq<25,>=17 in /usr/local/lib/python3.10/dist-packages (from notebook>=4.0->ipythonblocks) (24.0.1)\n",
            "Requirement already satisfied: argon2-cffi in /usr/local/lib/python3.10/dist-packages (from notebook>=4.0->ipythonblocks) (23.1.0)\n",
            "Requirement already satisfied: jupyter-core>=4.6.1 in /usr/local/lib/python3.10/dist-packages (from notebook>=4.0->ipythonblocks) (5.7.2)\n",
            "Requirement already satisfied: jupyter-client<8,>=5.3.4 in /usr/local/lib/python3.10/dist-packages (from notebook>=4.0->ipythonblocks) (7.4.9)\n",
            "Requirement already satisfied: ipython-genutils in /usr/local/lib/python3.10/dist-packages (from notebook>=4.0->ipythonblocks) (0.2.0)\n",
            "Requirement already satisfied: nbformat in /usr/local/lib/python3.10/dist-packages (from notebook>=4.0->ipythonblocks) (5.10.4)\n",
            "Requirement already satisfied: nbconvert>=5 in /usr/local/lib/python3.10/dist-packages (from notebook>=4.0->ipythonblocks) (7.16.4)\n",
            "Requirement already satisfied: nest-asyncio>=1.5 in /usr/local/lib/python3.10/dist-packages (from notebook>=4.0->ipythonblocks) (1.6.0)\n",
            "Requirement already satisfied: ipykernel in /usr/local/lib/python3.10/dist-packages (from notebook>=4.0->ipythonblocks) (6.29.5)\n",
            "Requirement already satisfied: Send2Trash>=1.8.0 in /usr/local/lib/python3.10/dist-packages (from notebook>=4.0->ipythonblocks) (1.8.3)\n",
            "Requirement already satisfied: terminado>=0.8.3 in /usr/local/lib/python3.10/dist-packages (from notebook>=4.0->ipythonblocks) (0.18.1)\n",
            "Requirement already satisfied: prometheus-client in /usr/local/lib/python3.10/dist-packages (from notebook>=4.0->ipythonblocks) (0.21.1)\n",
            "Requirement already satisfied: nbclassic>=0.4.7 in /usr/local/lib/python3.10/dist-packages (from notebook>=4.0->ipythonblocks) (1.1.0)\n",
            "Requirement already satisfied: charset-normalizer<4,>=2 in /usr/local/lib/python3.10/dist-packages (from requests>=1.0->ipythonblocks) (3.4.0)\n",
            "Requirement already satisfied: idna<4,>=2.5 in /usr/local/lib/python3.10/dist-packages (from requests>=1.0->ipythonblocks) (3.10)\n",
            "Requirement already satisfied: urllib3<3,>=1.21.1 in /usr/local/lib/python3.10/dist-packages (from requests>=1.0->ipythonblocks) (2.2.3)\n",
            "Requirement already satisfied: certifi>=2017.4.17 in /usr/local/lib/python3.10/dist-packages (from requests>=1.0->ipythonblocks) (2024.12.14)\n",
            "Requirement already satisfied: parso<0.9.0,>=0.8.4 in /usr/local/lib/python3.10/dist-packages (from jedi>=0.16->ipython>=4.0->ipythonblocks) (0.8.4)\n",
            "Requirement already satisfied: entrypoints in /usr/local/lib/python3.10/dist-packages (from jupyter-client<8,>=5.3.4->notebook>=4.0->ipythonblocks) (0.4)\n",
            "Requirement already satisfied: python-dateutil>=2.8.2 in /usr/local/lib/python3.10/dist-packages (from jupyter-client<8,>=5.3.4->notebook>=4.0->ipythonblocks) (2.8.2)\n",
            "Requirement already satisfied: platformdirs>=2.5 in /usr/local/lib/python3.10/dist-packages (from jupyter-core>=4.6.1->notebook>=4.0->ipythonblocks) (4.3.6)\n",
            "Requirement already satisfied: notebook-shim>=0.2.3 in /usr/local/lib/python3.10/dist-packages (from nbclassic>=0.4.7->notebook>=4.0->ipythonblocks) (0.2.4)\n",
            "Requirement already satisfied: beautifulsoup4 in /usr/local/lib/python3.10/dist-packages (from nbconvert>=5->notebook>=4.0->ipythonblocks) (4.12.3)\n",
            "Requirement already satisfied: bleach!=5.0.0 in /usr/local/lib/python3.10/dist-packages (from nbconvert>=5->notebook>=4.0->ipythonblocks) (6.2.0)\n",
            "Requirement already satisfied: defusedxml in /usr/local/lib/python3.10/dist-packages (from nbconvert>=5->notebook>=4.0->ipythonblocks) (0.7.1)\n",
            "Requirement already satisfied: jupyterlab-pygments in /usr/local/lib/python3.10/dist-packages (from nbconvert>=5->notebook>=4.0->ipythonblocks) (0.3.0)\n",
            "Requirement already satisfied: markupsafe>=2.0 in /usr/local/lib/python3.10/dist-packages (from nbconvert>=5->notebook>=4.0->ipythonblocks) (3.0.2)\n",
            "Requirement already satisfied: mistune<4,>=2.0.3 in /usr/local/lib/python3.10/dist-packages (from nbconvert>=5->notebook>=4.0->ipythonblocks) (3.0.2)\n",
            "Requirement already satisfied: nbclient>=0.5.0 in /usr/local/lib/python3.10/dist-packages (from nbconvert>=5->notebook>=4.0->ipythonblocks) (0.10.1)\n",
            "Requirement already satisfied: packaging in /usr/local/lib/python3.10/dist-packages (from nbconvert>=5->notebook>=4.0->ipythonblocks) (24.2)\n",
            "Requirement already satisfied: pandocfilters>=1.4.1 in /usr/local/lib/python3.10/dist-packages (from nbconvert>=5->notebook>=4.0->ipythonblocks) (1.5.1)\n",
            "Requirement already satisfied: tinycss2 in /usr/local/lib/python3.10/dist-packages (from nbconvert>=5->notebook>=4.0->ipythonblocks) (1.4.0)\n",
            "Requirement already satisfied: fastjsonschema>=2.15 in /usr/local/lib/python3.10/dist-packages (from nbformat->notebook>=4.0->ipythonblocks) (2.21.1)\n",
            "Requirement already satisfied: jsonschema>=2.6 in /usr/local/lib/python3.10/dist-packages (from nbformat->notebook>=4.0->ipythonblocks) (4.23.0)\n",
            "Requirement already satisfied: ptyprocess>=0.5 in /usr/local/lib/python3.10/dist-packages (from pexpect>4.3->ipython>=4.0->ipythonblocks) (0.7.0)\n",
            "Requirement already satisfied: wcwidth in /usr/local/lib/python3.10/dist-packages (from prompt-toolkit!=3.0.0,!=3.0.1,<3.1.0,>=2.0.0->ipython>=4.0->ipythonblocks) (0.2.13)\n",
            "Requirement already satisfied: argon2-cffi-bindings in /usr/local/lib/python3.10/dist-packages (from argon2-cffi->notebook>=4.0->ipythonblocks) (21.2.0)\n",
            "Requirement already satisfied: comm>=0.1.1 in /usr/local/lib/python3.10/dist-packages (from ipykernel->notebook>=4.0->ipythonblocks) (0.2.2)\n",
            "Requirement already satisfied: debugpy>=1.6.5 in /usr/local/lib/python3.10/dist-packages (from ipykernel->notebook>=4.0->ipythonblocks) (1.8.0)\n",
            "Requirement already satisfied: psutil in /usr/local/lib/python3.10/dist-packages (from ipykernel->notebook>=4.0->ipythonblocks) (5.9.5)\n",
            "Requirement already satisfied: webencodings in /usr/local/lib/python3.10/dist-packages (from bleach!=5.0.0->nbconvert>=5->notebook>=4.0->ipythonblocks) (0.5.1)\n",
            "Requirement already satisfied: attrs>=22.2.0 in /usr/local/lib/python3.10/dist-packages (from jsonschema>=2.6->nbformat->notebook>=4.0->ipythonblocks) (24.3.0)\n",
            "Requirement already satisfied: jsonschema-specifications>=2023.03.6 in /usr/local/lib/python3.10/dist-packages (from jsonschema>=2.6->nbformat->notebook>=4.0->ipythonblocks) (2024.10.1)\n",
            "Requirement already satisfied: referencing>=0.28.4 in /usr/local/lib/python3.10/dist-packages (from jsonschema>=2.6->nbformat->notebook>=4.0->ipythonblocks) (0.35.1)\n",
            "Requirement already satisfied: rpds-py>=0.7.1 in /usr/local/lib/python3.10/dist-packages (from jsonschema>=2.6->nbformat->notebook>=4.0->ipythonblocks) (0.22.3)\n",
            "Requirement already satisfied: jupyter-server<3,>=1.8 in /usr/local/lib/python3.10/dist-packages (from notebook-shim>=0.2.3->nbclassic>=0.4.7->notebook>=4.0->ipythonblocks) (2.15.0)\n",
            "Requirement already satisfied: six>=1.5 in /usr/local/lib/python3.10/dist-packages (from python-dateutil>=2.8.2->jupyter-client<8,>=5.3.4->notebook>=4.0->ipythonblocks) (1.17.0)\n",
            "Requirement already satisfied: cffi>=1.0.1 in /usr/local/lib/python3.10/dist-packages (from argon2-cffi-bindings->argon2-cffi->notebook>=4.0->ipythonblocks) (1.17.1)\n",
            "Requirement already satisfied: soupsieve>1.2 in /usr/local/lib/python3.10/dist-packages (from beautifulsoup4->nbconvert>=5->notebook>=4.0->ipythonblocks) (2.6)\n",
            "Requirement already satisfied: pycparser in /usr/local/lib/python3.10/dist-packages (from cffi>=1.0.1->argon2-cffi-bindings->argon2-cffi->notebook>=4.0->ipythonblocks) (2.22)\n",
            "Requirement already satisfied: anyio>=3.1.0 in /usr/local/lib/python3.10/dist-packages (from jupyter-server<3,>=1.8->notebook-shim>=0.2.3->nbclassic>=0.4.7->notebook>=4.0->ipythonblocks) (3.7.1)\n",
            "Requirement already satisfied: jupyter-events>=0.11.0 in /usr/local/lib/python3.10/dist-packages (from jupyter-server<3,>=1.8->notebook-shim>=0.2.3->nbclassic>=0.4.7->notebook>=4.0->ipythonblocks) (0.11.0)\n",
            "Requirement already satisfied: jupyter-server-terminals>=0.4.4 in /usr/local/lib/python3.10/dist-packages (from jupyter-server<3,>=1.8->notebook-shim>=0.2.3->nbclassic>=0.4.7->notebook>=4.0->ipythonblocks) (0.5.3)\n",
            "Requirement already satisfied: overrides>=5.0 in /usr/local/lib/python3.10/dist-packages (from jupyter-server<3,>=1.8->notebook-shim>=0.2.3->nbclassic>=0.4.7->notebook>=4.0->ipythonblocks) (7.7.0)\n",
            "Requirement already satisfied: websocket-client>=1.7 in /usr/local/lib/python3.10/dist-packages (from jupyter-server<3,>=1.8->notebook-shim>=0.2.3->nbclassic>=0.4.7->notebook>=4.0->ipythonblocks) (1.8.0)\n",
            "Requirement already satisfied: sniffio>=1.1 in /usr/local/lib/python3.10/dist-packages (from anyio>=3.1.0->jupyter-server<3,>=1.8->notebook-shim>=0.2.3->nbclassic>=0.4.7->notebook>=4.0->ipythonblocks) (1.3.1)\n",
            "Requirement already satisfied: exceptiongroup in /usr/local/lib/python3.10/dist-packages (from anyio>=3.1.0->jupyter-server<3,>=1.8->notebook-shim>=0.2.3->nbclassic>=0.4.7->notebook>=4.0->ipythonblocks) (1.2.2)\n",
            "Requirement already satisfied: python-json-logger>=2.0.4 in /usr/local/lib/python3.10/dist-packages (from jupyter-events>=0.11.0->jupyter-server<3,>=1.8->notebook-shim>=0.2.3->nbclassic>=0.4.7->notebook>=4.0->ipythonblocks) (3.2.1)\n",
            "Requirement already satisfied: pyyaml>=5.3 in /usr/local/lib/python3.10/dist-packages (from jupyter-events>=0.11.0->jupyter-server<3,>=1.8->notebook-shim>=0.2.3->nbclassic>=0.4.7->notebook>=4.0->ipythonblocks) (6.0.2)\n",
            "Requirement already satisfied: rfc3339-validator in /usr/local/lib/python3.10/dist-packages (from jupyter-events>=0.11.0->jupyter-server<3,>=1.8->notebook-shim>=0.2.3->nbclassic>=0.4.7->notebook>=4.0->ipythonblocks) (0.1.4)\n",
            "Requirement already satisfied: rfc3986-validator>=0.1.1 in /usr/local/lib/python3.10/dist-packages (from jupyter-events>=0.11.0->jupyter-server<3,>=1.8->notebook-shim>=0.2.3->nbclassic>=0.4.7->notebook>=4.0->ipythonblocks) (0.1.1)\n",
            "Requirement already satisfied: fqdn in /usr/local/lib/python3.10/dist-packages (from jsonschema[format-nongpl]>=4.18.0->jupyter-events>=0.11.0->jupyter-server<3,>=1.8->notebook-shim>=0.2.3->nbclassic>=0.4.7->notebook>=4.0->ipythonblocks) (1.5.1)\n",
            "Requirement already satisfied: isoduration in /usr/local/lib/python3.10/dist-packages (from jsonschema[format-nongpl]>=4.18.0->jupyter-events>=0.11.0->jupyter-server<3,>=1.8->notebook-shim>=0.2.3->nbclassic>=0.4.7->notebook>=4.0->ipythonblocks) (20.11.0)\n",
            "Requirement already satisfied: jsonpointer>1.13 in /usr/local/lib/python3.10/dist-packages (from jsonschema[format-nongpl]>=4.18.0->jupyter-events>=0.11.0->jupyter-server<3,>=1.8->notebook-shim>=0.2.3->nbclassic>=0.4.7->notebook>=4.0->ipythonblocks) (3.0.0)\n",
            "Requirement already satisfied: uri-template in /usr/local/lib/python3.10/dist-packages (from jsonschema[format-nongpl]>=4.18.0->jupyter-events>=0.11.0->jupyter-server<3,>=1.8->notebook-shim>=0.2.3->nbclassic>=0.4.7->notebook>=4.0->ipythonblocks) (1.3.0)\n",
            "Requirement already satisfied: webcolors>=24.6.0 in /usr/local/lib/python3.10/dist-packages (from jsonschema[format-nongpl]>=4.18.0->jupyter-events>=0.11.0->jupyter-server<3,>=1.8->notebook-shim>=0.2.3->nbclassic>=0.4.7->notebook>=4.0->ipythonblocks) (24.11.1)\n",
            "Requirement already satisfied: arrow>=0.15.0 in /usr/local/lib/python3.10/dist-packages (from isoduration->jsonschema[format-nongpl]>=4.18.0->jupyter-events>=0.11.0->jupyter-server<3,>=1.8->notebook-shim>=0.2.3->nbclassic>=0.4.7->notebook>=4.0->ipythonblocks) (1.3.0)\n",
            "Requirement already satisfied: types-python-dateutil>=2.8.10 in /usr/local/lib/python3.10/dist-packages (from arrow>=0.15.0->isoduration->jsonschema[format-nongpl]>=4.18.0->jupyter-events>=0.11.0->jupyter-server<3,>=1.8->notebook-shim>=0.2.3->nbclassic>=0.4.7->notebook>=4.0->ipythonblocks) (2.9.0.20241206)\n"
          ]
        }
      ],
      "source": [
        "!pip install ipythonblocks"
      ]
    },
    {
      "cell_type": "code",
      "execution_count": 45,
      "metadata": {
        "colab": {
          "base_uri": "https://localhost:8080/"
        },
        "id": "jydor8j7dADy",
        "outputId": "91cb5112-2ce5-40c1-ae51-fa9dc5bb27be",
        "collapsed": true
      },
      "outputs": [
        {
          "output_type": "stream",
          "name": "stdout",
          "text": [
            "Requirement already satisfied: sortedcontainers in /usr/local/lib/python3.10/dist-packages (2.4.0)\n"
          ]
        }
      ],
      "source": [
        "!pip install sortedcontainers"
      ]
    },
    {
      "cell_type": "code",
      "execution_count": 46,
      "metadata": {
        "id": "-a9wMKoHdBEX"
      },
      "outputs": [],
      "source": [
        "from aima.logic import *\n",
        "from aima.utils import expr\n",
        "from aima.csp import *\n",
        "import sys\n"
      ]
    },
    {
      "cell_type": "code",
      "source": [
        "# List of persons, potters, dreams, and desserts\n",
        "persons = [\"Peter\",\"AuntPolly\", \"Betty\", \"Daddy\", \"Mummy\"]\n",
        "potters = [\"Peter\", \"Betty\", \"Daddy\", \"Mummy\"]\n",
        "dreams = [\"TripSea\", \"Ticket\", \"TripParis\", \"CoinCollection\"]\n",
        "desserts = [\"Marmalade\", \"Marshmallows\", \"Waffles\", \"IceCream\", \"NapoleonCake\"]\n",
        "holiday_desserts = [\"NapoleonCake\", \"Marmalade\", \"Waffles\"]\n",
        "\n",
        "# Initialize the clauses list\n",
        "clauses = []\n",
        "\n",
        "# Add base facts about hobbies\n",
        "hobbies = {\n",
        "    \"Mummy\": \"Yoga\",\n",
        "    \"AuntPolly\": \"Sewing\",\n",
        "    \"Betty\": \"Ballet\",\n",
        "    \"Daddy\": \"Fishing\",\n",
        "    \"Peter\": \"CoinCollection\"\n",
        "}\n",
        "\n",
        "for person, hobby in hobbies.items():\n",
        "    clauses.append(expr(f\"Hobby({person}, {hobby})\"))\n",
        "\n",
        "# Known dreams - explicit assignments\n",
        "clauses.append(expr(\"Dream(Peter, CoinCollection)\"))\n",
        "clauses.append(expr(\"Dream(Betty, Ticket)\"))\n",
        "\n",
        "\n",
        "# Known desserts\n",
        "clauses.append(expr(\"Desert(Mummy, Marshmallows)\"))\n",
        "clauses.append(expr(\"Desert(Betty, Marmalade)\"))\n",
        "\n",
        "# Add Potter status using a loop\n",
        "for person in potters:\n",
        "    clauses.append(expr(f\"Potter({person})\"))\n",
        "\n",
        "# Add Person status using a loop\n",
        "for person in persons:\n",
        "    clauses.append(expr(f\"Person({person})\"))\n",
        "\n",
        "# Core rules\n",
        "clauses.append(expr(\"Person(x) & Desert(x, IceCream) ==> Dream(x, TripParis)\"))\n",
        "\n",
        "# Relationship between Daddy and Mummy's dreams\n",
        "clauses.append(expr(\"Dream(Daddy, x) ==> Dream(Mummy, x)\"))\n",
        "clauses.append(expr(\"Dream(Mummy, x) & PotterDream(x) ==> Dream(Daddy, x)\"))\n",
        "\n",
        "# Known PotterDream\n",
        "clauses.append(expr(\"PotterDream(TripSea)\"))\n",
        "\n",
        "# Facts about desserts containing cream\n",
        "clauses.append(expr(\"ContainsCream(IceCream)\"))\n",
        "clauses.append(expr(\"ContainsCream(NapoleonCake)\"))\n",
        "\n",
        "clauses.append(expr(\"ContainsCream(y) ==> Desert_NotLike(Peter, y)\"))\n",
        "\n",
        "# Assigned desserts\n",
        "assigned_desserts = {\n",
        "    \"Mummy\": \"Marshmallows\",\n",
        "    \"Betty\": \"Marmalade\",\n",
        "}\n",
        "\n",
        "for person, dessert in assigned_desserts.items():\n",
        "    clauses.append(expr(f\"HasAssignedDesert({person}, {dessert})\"))\n",
        "\n",
        "# Build the Knowledge Base using FOL (First-Order Logic)\n",
        "kb = FolKB(clauses)\n",
        "\n",
        "\n"
      ],
      "metadata": {
        "id": "eW93Lnwqe0by"
      },
      "execution_count": 47,
      "outputs": []
    },
    {
      "cell_type": "code",
      "source": [
        "# Second query: Napoleon cake preferences\n",
        "print(\"\\nWho likes Napoleon cake?\")\n",
        "\n",
        "for person in potters:\n",
        "    potter_query = expr(f\"Potter({person})\")\n",
        "    assigned_query = expr(f\"HasAssignedDesert({person}, x)\")\n",
        "\n",
        "    is_potter = kb.ask(potter_query)\n",
        "    has_other_desert = kb.ask(assigned_query)\n",
        "\n",
        "    if has_other_desert :\n",
        "        dessert_query = expr(f\"Desert({person}, x)\")\n",
        "        dessert = kb.ask(dessert_query)\n",
        "        print(f\"- {person} has already been assigned {dessert}\")\n",
        "\n",
        "    else:\n",
        "        napoleon_dislike_query = expr(f\"Desert_NotLike({person}, NapoleonCake)\")\n",
        "        dislikes_napoleon = kb.ask(napoleon_dislike_query)\n",
        "\n",
        "\n",
        "        if not dislikes_napoleon:\n",
        "            # If they don't dislike Napoleon cake, they like it\n",
        "            print(f\"- {person} likes Napoleon cake\")\n",
        "            # Add this preference to the knowledge base\n",
        "            kb.tell(expr(f\"Desert({person}, NapoleonCake)\"))\n",
        "        else:\n",
        "            print(f\"- {person} dislikes Napoleon cake\")\n",
        "            kb.tell(expr(f\"Desert({person}, Waffles)\"))\n",
        "\n",
        "\n"
      ],
      "metadata": {
        "colab": {
          "base_uri": "https://localhost:8080/"
        },
        "id": "4rAy6aaae5Ax",
        "outputId": "2feb30c0-002a-4742-b6e2-7c4d9af8c497"
      },
      "execution_count": 48,
      "outputs": [
        {
          "output_type": "stream",
          "name": "stdout",
          "text": [
            "\n",
            "Who likes Napoleon cake?\n",
            "- Peter dislikes Napoleon cake\n",
            "- Betty has already been assigned {x: Marmalade}\n",
            "- Daddy likes Napoleon cake\n",
            "- Mummy has already been assigned {x: Marshmallows}\n"
          ]
        }
      ]
    },
    {
      "cell_type": "code",
      "source": [
        "# Second query: Napoleon cake preferences\n",
        "print(\"\\nWho likes Napoleon cake?\")\n",
        "\n",
        "result_dislike = kb.ask(expr(\"Desert(x, NapoleonCake)\"))\n",
        "\n",
        "print(f\" Result: {result_dislike}\")\n",
        "\n"
      ],
      "metadata": {
        "colab": {
          "base_uri": "https://localhost:8080/"
        },
        "id": "rUSNE63s-3o6",
        "outputId": "3aea09ab-d81e-4a2c-b5e9-379dba33b12a"
      },
      "execution_count": 49,
      "outputs": [
        {
          "output_type": "stream",
          "name": "stdout",
          "text": [
            "\n",
            "Who likes Napoleon cake?\n",
            " Result: {x: Daddy}\n"
          ]
        }
      ]
    },
    {
      "cell_type": "code",
      "source": [
        "for dessert in desserts:\n",
        "    dessert_liked_by_anyone = False\n",
        "\n",
        "    print(f\"\\nChecking if anyone likes {dessert}...\")\n",
        "\n",
        "    # Check if anyone likes the dessert\n",
        "    for person in persons:\n",
        "        likes_dessert_query = expr(f\"Desert({person}, {dessert})\")\n",
        "        likes_dessert = kb.ask(likes_dessert_query)\n",
        "\n",
        "        if likes_dessert is not False:  # If it's not False, the query is satisfied\n",
        "            dessert_liked_by_anyone = True\n",
        "            print(f\"Query: Does {person} like {dessert}? Result: {likes_dessert}\")\n",
        "            print(f\"{person} likes {dessert}.\")\n",
        "            break  # Exit if someone likes this dessert\n",
        "        else:\n",
        "            print(f\"Query: Does {person} like {dessert}? Result: {likes_dessert}\")\n",
        "\n",
        "    # If no one likes the dessert\n",
        "    if not dessert_liked_by_anyone:\n",
        "        print(f\"No one likes {dessert}.\")\n",
        "\n",
        "        for person in persons:\n",
        "            dislikes_all_desserts = True\n",
        "\n",
        "            for other_dessert in desserts:\n",
        "                likes_any_query = expr(f\"Desert({person}, {other_dessert})\")\n",
        "                likes_any = kb.ask(likes_any_query)\n",
        "\n",
        "                if likes_any is not False:  # If it's not False, the query is satisfied\n",
        "                    print(f\"Query: Does {person} like {other_dessert}? Result: {likes_any}\")\n",
        "                    dislikes_all_desserts = False\n",
        "                    break  # Person likes at least one dessert\n",
        "                else:\n",
        "                    print(f\"Query: Does {person} like {other_dessert}? Result: {likes_any}\")\n",
        "\n",
        "            print(f\"Does {person} dislike all desserts? Result: {dislikes_all_desserts}\")\n",
        "\n",
        "            if dislikes_all_desserts:\n",
        "                print(f\"{person} dislikes all desserts. Assigning {dessert} to {person}.\")\n",
        "                kb.tell(expr(f\"Desert({person}, {dessert})\"))  # Add the fact to the KB\n",
        "                break\n"
      ],
      "metadata": {
        "colab": {
          "base_uri": "https://localhost:8080/"
        },
        "id": "-N6iJBA0-722",
        "outputId": "d62c6b33-6b99-412c-e435-d5e31355b760"
      },
      "execution_count": 51,
      "outputs": [
        {
          "output_type": "stream",
          "name": "stdout",
          "text": [
            "\n",
            "Checking if anyone likes Marmalade...\n",
            "Query: Does Peter like Marmalade? Result: False\n",
            "Query: Does AuntPolly like Marmalade? Result: False\n",
            "Query: Does Betty like Marmalade? Result: {}\n",
            "Betty likes Marmalade.\n",
            "\n",
            "Checking if anyone likes Marshmallows...\n",
            "Query: Does Peter like Marshmallows? Result: False\n",
            "Query: Does AuntPolly like Marshmallows? Result: False\n",
            "Query: Does Betty like Marshmallows? Result: False\n",
            "Query: Does Daddy like Marshmallows? Result: False\n",
            "Query: Does Mummy like Marshmallows? Result: {}\n",
            "Mummy likes Marshmallows.\n",
            "\n",
            "Checking if anyone likes Waffles...\n",
            "Query: Does Peter like Waffles? Result: {}\n",
            "Peter likes Waffles.\n",
            "\n",
            "Checking if anyone likes IceCream...\n",
            "Query: Does Peter like IceCream? Result: False\n",
            "Query: Does AuntPolly like IceCream? Result: False\n",
            "Query: Does Betty like IceCream? Result: False\n",
            "Query: Does Daddy like IceCream? Result: False\n",
            "Query: Does Mummy like IceCream? Result: False\n",
            "No one likes IceCream.\n",
            "Query: Does Peter like Marmalade? Result: False\n",
            "Query: Does Peter like Marshmallows? Result: False\n",
            "Query: Does Peter like Waffles? Result: {}\n",
            "Does Peter dislike all desserts? Result: False\n",
            "Query: Does AuntPolly like Marmalade? Result: False\n",
            "Query: Does AuntPolly like Marshmallows? Result: False\n",
            "Query: Does AuntPolly like Waffles? Result: False\n",
            "Query: Does AuntPolly like IceCream? Result: False\n",
            "Query: Does AuntPolly like NapoleonCake? Result: False\n",
            "Does AuntPolly dislike all desserts? Result: True\n",
            "AuntPolly dislikes all desserts. Assigning IceCream to AuntPolly.\n",
            "\n",
            "Checking if anyone likes NapoleonCake...\n",
            "Query: Does Peter like NapoleonCake? Result: False\n",
            "Query: Does AuntPolly like NapoleonCake? Result: False\n",
            "Query: Does Betty like NapoleonCake? Result: False\n",
            "Query: Does Daddy like NapoleonCake? Result: {}\n",
            "Daddy likes NapoleonCake.\n"
          ]
        }
      ]
    },
    {
      "cell_type": "code",
      "source": [
        "print(\"\\nWho dreams of Paris?\")\n",
        "for person in people:\n",
        "    # First check if they have an assigned dream\n",
        "    has_assigned = fol_fc_ask(kb, expr(f\"HasAssignedDream({person}, x)\"))\n",
        "\n",
        "    if not len(list(has_assigned)):  # Only check for Paris dreams if no assigned dream\n",
        "        # Check ice cream rule\n",
        "        Trip = fol_fc_ask(kb, expr(f\"Dream({person}, TripParis)\"))\n",
        "\n",
        "        if  len(list(Trip)):\n",
        "            print(f\"- {person} dreams of TripParis (because they like ice cream)\")\n",
        "            kb.tell(expr(f\"Dream({person}, TripParis)\"))\n",
        "    else:\n",
        "        print(f\"- {person} has an assigned dream and cannot dream of Paris\")"
      ],
      "metadata": {
        "colab": {
          "base_uri": "https://localhost:8080/"
        },
        "id": "Ke0rCN0te-FH",
        "outputId": "7a3a1851-2edd-487a-96b7-883015f7a6bd"
      },
      "execution_count": 52,
      "outputs": [
        {
          "output_type": "stream",
          "name": "stdout",
          "text": [
            "\n",
            "Who dreams of Paris?\n",
            "- AuntPolly dreams of TripParis (because they like ice cream)\n"
          ]
        }
      ]
    },
    {
      "cell_type": "code",
      "source": [
        "persons = [\"AuntPolly\", \"Peter\", \"Betty\",\"Daddy\",\"Mummy\"]\n",
        "potters = [ \"Peter\", \"Betty\",\"Daddy\",\"Mummy\"]\n",
        "dreams = [\"TripSea\", \"Ticket\", \"TripParis\", \"CoinCollection\"]\n",
        "desserts = [\"Marmalade\", \"Marshmallows\", \"Waffles\", \"IceCream\",\"NapoleonCake\"]\n",
        "holiday_desserts = [\"NapoleonCake\", \"Marmalade\", \"Waffles\"]\n",
        "\n",
        "\n",
        "definite_clauses_KB = PropDefiniteKB()\n",
        "\n",
        "# Person status\n",
        "definite_clauses_KB.tell(expr(\"Person_Betty\"))\n",
        "definite_clauses_KB.tell(expr(\"Person_Peter\"))\n",
        "definite_clauses_KB.tell(expr(\"Person_Daddy\"))\n",
        "definite_clauses_KB.tell(expr(\"Person_Mummy\"))\n",
        "definite_clauses_KB.tell(expr(\"Person_AuntPolly\"))\n",
        "\n",
        "# Potter status\n",
        "definite_clauses_KB.tell(expr(\"Potter_Mummy\"))\n",
        "definite_clauses_KB.tell(expr(\"Potter_Daddy\"))\n",
        "definite_clauses_KB.tell(expr(\"Potter_Peter\"))\n",
        "definite_clauses_KB.tell(expr(\"Potter_Betty\"))\n",
        "\n",
        "# deserts\n",
        "definite_clauses_KB.tell(expr(\"Desert_Mummy_Marshmallows\"))\n",
        "definite_clauses_KB.tell(expr(\"Desert_Betty_Marmalade\"))\n",
        "\n",
        "\n",
        "\n",
        "# facts about hobbies\n",
        "definite_clauses_KB.tell(expr(\"Hobby_Mummy_Yoga\"))\n",
        "definite_clauses_KB.tell(expr(\"Hobby_AuntPolly_Sewing\"))\n",
        "definite_clauses_KB.tell(expr(\"Hobby_Betty_Ballet\"))\n",
        "definite_clauses_KB.tell(expr(\"Hobby_Daddy_Fishing\"))\n",
        "definite_clauses_KB.tell(expr(\"Hobby_Peter_CoinCollection\"))\n",
        "\n",
        "# dreams\n",
        "definite_clauses_KB.tell(expr(\"Dream_Peter_CoinCollection\"))\n",
        "definite_clauses_KB.tell(expr(\"Dream_Betty_Ticket\"))\n",
        "\n",
        "\n",
        "# Core rules\n",
        "\n",
        "for person in persons:\n",
        "        definite_clauses_KB.tell(expr(f\"(Person_{person} & Desert_{person}_IceCream) ==> Dream_{person}_TripParis\"))\n",
        "\n",
        "for dream in dreams:\n",
        "    definite_clauses_KB.tell(expr(f\"Dream_Daddy_{dream} ==> Dream_Mummy_{dream}\"))\n",
        "    definite_clauses_KB.tell(expr(f\"(Dream_Mummy_{dream} & PotterDream_{dream}) ==> Dream_Daddy_{dream}\"))\n",
        "\n",
        "\n",
        "definite_clauses_KB.tell(expr(\"PotterDream_TripSea\"))\n",
        "\n",
        "\n",
        "definite_clauses_KB.tell(expr(\"HasAssignedDesert_Mummy_Marshmallows\"))\n",
        "definite_clauses_KB.tell(expr(\"HasAssignedDesert_Betty_Marmalade\"))\n",
        "\n",
        "\n",
        "definite_clauses_KB.tell(expr(\"IceCream_ContainsCream\"))\n",
        "definite_clauses_KB.tell(expr(\"NapoleonCake_ContainsCream\"))\n",
        "for dessert in desserts:\n",
        "        definite_clauses_KB.tell(expr(f\"{dessert}_ContainsCream ==> Desert_Not_like_Peter_{dessert}\"))\n",
        "\n",
        "\n",
        "\n"
      ],
      "metadata": {
        "id": "kzjZZOjm1wNo"
      },
      "execution_count": 53,
      "outputs": []
    },
    {
      "cell_type": "code",
      "source": [
        "for person in potters:\n",
        "    for dessert in holiday_desserts:\n",
        "        not_assigned_any_dessert = True\n",
        "        for other_dessert in desserts:\n",
        "            assigned_dessert_query = expr(f\"HasAssignedDesert_{person}_{other_dessert}\")\n",
        "            assigned = pl_fc_entails(definite_clauses_KB, assigned_dessert_query)\n",
        "\n",
        "            not_assigned_any_dessert = not_assigned_any_dessert and (not assigned)\n",
        "\n",
        "        dislike_query = expr(f\"Desert_Not_like_{person}_{dessert}\")\n",
        "        dislikes_dessert = pl_fc_entails(definite_clauses_KB, dislike_query)\n",
        "        does_not_dislike_dessert = not dislikes_dessert\n",
        "\n",
        "        all_conditions_met = not_assigned_any_dessert and does_not_dislike_dessert\n",
        "\n",
        "        # Add to KB if all conditions are met\n",
        "        if all_conditions_met:\n",
        "            definite_clauses_KB.tell(expr(f\"Desert_{person}_{dessert}\"))\n",
        "\n",
        "        # Output result\n",
        "        print(f\"{person} likes the {dessert}: {all_conditions_met}\")\n"
      ],
      "metadata": {
        "colab": {
          "base_uri": "https://localhost:8080/"
        },
        "id": "IJHhG34c4pX1",
        "outputId": "7caa3918-5f8d-4de8-8895-732dccd6f3f8",
        "collapsed": true
      },
      "execution_count": 54,
      "outputs": [
        {
          "output_type": "stream",
          "name": "stdout",
          "text": [
            "Peter likes the NapoleonCake: False\n",
            "Peter likes the Marmalade: True\n",
            "Peter likes the Waffles: True\n",
            "Betty likes the NapoleonCake: False\n",
            "Betty likes the Marmalade: False\n",
            "Betty likes the Waffles: False\n",
            "Daddy likes the NapoleonCake: True\n",
            "Daddy likes the Marmalade: True\n",
            "Daddy likes the Waffles: True\n",
            "Mummy likes the NapoleonCake: False\n",
            "Mummy likes the Marmalade: False\n",
            "Mummy likes the Waffles: False\n"
          ]
        }
      ]
    },
    {
      "cell_type": "code",
      "source": [
        "for dessert in desserts:\n",
        "    dessert_liked_by_anyone = False\n",
        "\n",
        "    for person in persons:\n",
        "        # Check if the person likes the dessert\n",
        "        likes_dessert_query = expr(f\"Desert_{person}_{dessert}\")\n",
        "        likes_dessert = pl_fc_entails(definite_clauses_KB, likes_dessert_query)\n",
        "\n",
        "        if likes_dessert:\n",
        "            dessert_liked_by_anyone = True\n",
        "            break\n",
        "\n",
        "    # If no one likes the dessert, print it and process it for the person who dislikes all desserts\n",
        "    if not dessert_liked_by_anyone:\n",
        "        print(f\"No one likes {dessert}.\")\n",
        "\n",
        "        # Find a person who dislikes all desserts\n",
        "        for person in persons:\n",
        "            all_dislike = True\n",
        "            for other_dessert in desserts:\n",
        "                # Check if the person likes the dessert\n",
        "                likes_dessert_query = expr(f\"Desert_{person}_{other_dessert}\")\n",
        "                likes_dessert = pl_fc_entails(definite_clauses_KB, likes_dessert_query)\n",
        "\n",
        "                # If the person likes any dessert, set all_dislike to False\n",
        "                if likes_dessert:\n",
        "                    all_dislike = False\n",
        "                    break\n",
        "\n",
        "\n",
        "            if all_dislike:\n",
        "                print(f\"{person} dislikes all desserts. Assigning {dessert} to {person}.\")\n",
        "                definite_clauses_KB.tell(expr(f\"Desert_{person}_{dessert}\"))\n",
        "                break\n"
      ],
      "metadata": {
        "colab": {
          "base_uri": "https://localhost:8080/"
        },
        "id": "VChQC6gjCBag",
        "outputId": "619fadd0-da59-4211-ea6d-03da179654d0",
        "collapsed": true
      },
      "execution_count": 55,
      "outputs": [
        {
          "output_type": "stream",
          "name": "stdout",
          "text": [
            "No one likes IceCream.\n",
            "AuntPolly dislikes all desserts. Assigning IceCream to AuntPolly.\n"
          ]
        }
      ]
    },
    {
      "cell_type": "code",
      "source": [
        "# Check if anyone likes the Napoleon Cake\n",
        "for person in persons:\n",
        "    likes_dessert_query = expr(f\"Desert_{person}_NapoleonCake\")\n",
        "    likes_dessert = pl_fc_entails(definite_clauses_KB, likes_dessert_query)\n",
        "    print(f\"{person} likes the Napoleon Cake: {likes_dessert}\")\n"
      ],
      "metadata": {
        "colab": {
          "base_uri": "https://localhost:8080/"
        },
        "id": "N8qCYa8W9Q54",
        "outputId": "1b763cbe-8cfe-4ad7-a1b8-d0f665e7f02d"
      },
      "execution_count": 56,
      "outputs": [
        {
          "output_type": "stream",
          "name": "stdout",
          "text": [
            "AuntPolly likes the Napoleon Cake: False\n",
            "Peter likes the Napoleon Cake: False\n",
            "Betty likes the Napoleon Cake: False\n",
            "Daddy likes the Napoleon Cake: True\n",
            "Mummy likes the Napoleon Cake: False\n"
          ]
        }
      ]
    },
    {
      "cell_type": "code",
      "source": [
        "# Question: Which person dreams of visiting Paris?\n",
        "for person in persons:\n",
        "    query = expr(f'Dream_{person}_TripParis')\n",
        "\n",
        "    result = pl_fc_entails(definite_clauses_KB, query)\n",
        "\n",
        "    print(f\"{person} dreams of Paris: {result}\")\n"
      ],
      "metadata": {
        "colab": {
          "base_uri": "https://localhost:8080/"
        },
        "id": "hhSfk6S2FWbr",
        "outputId": "097ccc94-ca59-4d12-aa77-c4225857fc48"
      },
      "execution_count": 57,
      "outputs": [
        {
          "output_type": "stream",
          "name": "stdout",
          "text": [
            "AuntPolly dreams of Paris: True\n",
            "Peter dreams of Paris: False\n",
            "Betty dreams of Paris: False\n",
            "Daddy dreams of Paris: False\n",
            "Mummy dreams of Paris: False\n"
          ]
        }
      ]
    }
  ],
  "metadata": {
    "colab": {
      "provenance": [],
      "include_colab_link": true
    },
    "kernelspec": {
      "display_name": "Python 3",
      "name": "python3"
    },
    "language_info": {
      "name": "python"
    }
  },
  "nbformat": 4,
  "nbformat_minor": 0
}